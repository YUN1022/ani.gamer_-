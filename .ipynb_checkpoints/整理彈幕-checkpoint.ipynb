{
 "cells": [
  {
   "cell_type": "code",
   "execution_count": 20,
   "metadata": {},
   "outputs": [],
   "source": [
    "import requests\n",
    "import re\n",
    "import pandas as pd\n",
    "from bs4 import BeautifulSoup\n",
    "\n",
    "def crawler(url):\n",
    "    try:\n",
    "        headers = {\n",
    "            'user-agent': 'Mozilla/5.0 (Windows NT 10.0; Win64; x64) AppleWebKit/537.36 (KHTML, like Gecko) Chrome/89.0.4389.90 Safari/537.36'\n",
    "        }\n",
    "        response = requests.get(url, headers=headers)\n",
    "        bsobj = BeautifulSoup(response.text, 'lxml')\n",
    "        pattern = r'(.+)\\[.*'\n",
    "        anime_name = re.search(pattern, bsobj.title.text).group(1)\n",
    "\n",
    "        season_section = bsobj.find('section', {'class':'season'})\n",
    "        anime_url = season_section.find_all('a')\n",
    "\n",
    "        sn_list = []\n",
    "        for i in anime_url:\n",
    "            i.get('href')\n",
    "            pattern = \"[0-9]+\"\n",
    "            sn = re.search(pattern, i.get('href')).group(0)\n",
    "            sn_list.append(sn)\n",
    "\n",
    "        \n",
    "        return sn_list\n",
    "\n",
    "    except:\n",
    "        return 'faild'"
   ]
  },
  {
   "cell_type": "code",
   "execution_count": 13,
   "metadata": {},
   "outputs": [
    {
     "data": {
      "text/plain": [
       "{'https://ani.gamer.com.tw/animeRef.php?sn=112522': ['19849',\n",
       "  '19850',\n",
       "  '19959',\n",
       "  '19960',\n",
       "  '20334',\n",
       "  '20335',\n",
       "  '20674',\n",
       "  '20675',\n",
       "  '21074',\n",
       "  '21075',\n",
       "  '21388',\n",
       "  '21389',\n",
       "  '21512',\n",
       "  '21513',\n",
       "  '21784',\n",
       "  '21785']}"
      ]
     },
     "execution_count": 13,
     "metadata": {},
     "output_type": "execute_result"
    }
   ],
   "source": [
    "a = crawler('https://ani.gamer.com.tw/animeRef.php?sn=112522')\n",
    "a"
   ]
  },
  {
   "cell_type": "code",
   "execution_count": 14,
   "metadata": {},
   "outputs": [
    {
     "data": {
      "text/plain": [
       "['19849',\n",
       " '19850',\n",
       " '19959',\n",
       " '19960',\n",
       " '20334',\n",
       " '20335',\n",
       " '20674',\n",
       " '20675',\n",
       " '21074',\n",
       " '21075',\n",
       " '21388',\n",
       " '21389',\n",
       " '21512',\n",
       " '21513',\n",
       " '21784',\n",
       " '21785']"
      ]
     },
     "execution_count": 14,
     "metadata": {},
     "output_type": "execute_result"
    }
   ],
   "source": [
    "a['https://ani.gamer.com.tw/animeRef.php?sn=112522']"
   ]
  },
  {
   "cell_type": "code",
   "execution_count": 3,
   "metadata": {},
   "outputs": [
    {
     "data": {
      "text/html": [
       "<div>\n",
       "<style scoped>\n",
       "    .dataframe tbody tr th:only-of-type {\n",
       "        vertical-align: middle;\n",
       "    }\n",
       "\n",
       "    .dataframe tbody tr th {\n",
       "        vertical-align: top;\n",
       "    }\n",
       "\n",
       "    .dataframe thead th {\n",
       "        text-align: right;\n",
       "    }\n",
       "</style>\n",
       "<table border=\"1\" class=\"dataframe\">\n",
       "  <thead>\n",
       "    <tr style=\"text-align: right;\">\n",
       "      <th></th>\n",
       "      <th>影片名稱</th>\n",
       "      <th>年份</th>\n",
       "      <th>集數</th>\n",
       "      <th>觀看人數</th>\n",
       "      <th>網址</th>\n",
       "    </tr>\n",
       "    <tr>\n",
       "      <th>SN_Number</th>\n",
       "      <th></th>\n",
       "      <th></th>\n",
       "      <th></th>\n",
       "      <th></th>\n",
       "      <th></th>\n",
       "    </tr>\n",
       "  </thead>\n",
       "  <tbody>\n",
       "    <tr>\n",
       "      <td>112670</td>\n",
       "      <td>不要欺負我，長瀞同學</td>\n",
       "      <td>2021/04</td>\n",
       "      <td>第1集</td>\n",
       "      <td>最近搜尋</td>\n",
       "      <td>https://ani.gamer.com.tw/animeRef.php?sn=112670</td>\n",
       "    </tr>\n",
       "    <tr>\n",
       "      <td>112680</td>\n",
       "      <td>異世界魔王與召喚少女的奴隸魔術 Ω</td>\n",
       "      <td>2021/04</td>\n",
       "      <td>第1集</td>\n",
       "      <td>熱門搜尋</td>\n",
       "      <td>https://ani.gamer.com.tw/animeRef.php?sn=112680</td>\n",
       "    </tr>\n",
       "    <tr>\n",
       "      <td>112675</td>\n",
       "      <td>入間同學入魔了 第二季</td>\n",
       "      <td>2021/04</td>\n",
       "      <td>第2集</td>\n",
       "      <td>2.4萬</td>\n",
       "      <td>https://ani.gamer.com.tw/animeRef.php?sn=112675</td>\n",
       "    </tr>\n",
       "    <tr>\n",
       "      <td>112677</td>\n",
       "      <td>青梅竹馬絕對不會輸的戀愛喜劇</td>\n",
       "      <td>2021/04</td>\n",
       "      <td>第2集</td>\n",
       "      <td>4.8萬</td>\n",
       "      <td>https://ani.gamer.com.tw/animeRef.php?sn=112677</td>\n",
       "    </tr>\n",
       "    <tr>\n",
       "      <td>112674</td>\n",
       "      <td>給不滅的你</td>\n",
       "      <td>2021/04</td>\n",
       "      <td>第2集</td>\n",
       "      <td>14.8萬</td>\n",
       "      <td>https://ani.gamer.com.tw/animeRef.php?sn=112674</td>\n",
       "    </tr>\n",
       "    <tr>\n",
       "      <td>...</td>\n",
       "      <td>...</td>\n",
       "      <td>...</td>\n",
       "      <td>...</td>\n",
       "      <td>...</td>\n",
       "      <td>...</td>\n",
       "    </tr>\n",
       "    <tr>\n",
       "      <td>112419</td>\n",
       "      <td>魔神英雄傳</td>\n",
       "      <td>1988/04</td>\n",
       "      <td>第45集</td>\n",
       "      <td>6.7萬</td>\n",
       "      <td>https://ani.gamer.com.tw/animeRef.php?sn=112419</td>\n",
       "    </tr>\n",
       "    <tr>\n",
       "      <td>30499</td>\n",
       "      <td>城市獵人 2</td>\n",
       "      <td>1988/04</td>\n",
       "      <td>第63集</td>\n",
       "      <td>2.6萬</td>\n",
       "      <td>https://ani.gamer.com.tw/animeRef.php?sn=30499</td>\n",
       "    </tr>\n",
       "    <tr>\n",
       "      <td>112518</td>\n",
       "      <td>迷宮物語</td>\n",
       "      <td>1987/09</td>\n",
       "      <td>第1集</td>\n",
       "      <td>6萬</td>\n",
       "      <td>https://ani.gamer.com.tw/animeRef.php?sn=112518</td>\n",
       "    </tr>\n",
       "    <tr>\n",
       "      <td>19171</td>\n",
       "      <td>城市獵人</td>\n",
       "      <td>1987/04</td>\n",
       "      <td>第51集</td>\n",
       "      <td>17萬</td>\n",
       "      <td>https://ani.gamer.com.tw/animeRef.php?sn=19171</td>\n",
       "    </tr>\n",
       "    <tr>\n",
       "      <td>112511</td>\n",
       "      <td>卡姆依之劍</td>\n",
       "      <td>1985/03</td>\n",
       "      <td>第1集</td>\n",
       "      <td>3212</td>\n",
       "      <td>https://ani.gamer.com.tw/animeRef.php?sn=112511</td>\n",
       "    </tr>\n",
       "  </tbody>\n",
       "</table>\n",
       "<p>1006 rows × 5 columns</p>\n",
       "</div>"
      ],
      "text/plain": [
       "                        影片名稱       年份    集數   觀看人數  \\\n",
       "SN_Number                                            \n",
       "112670            不要欺負我，長瀞同學  2021/04   第1集   最近搜尋   \n",
       "112680     異世界魔王與召喚少女的奴隸魔術 Ω  2021/04   第1集   熱門搜尋   \n",
       "112675           入間同學入魔了 第二季  2021/04   第2集   2.4萬   \n",
       "112677        青梅竹馬絕對不會輸的戀愛喜劇  2021/04   第2集   4.8萬   \n",
       "112674                 給不滅的你  2021/04   第2集  14.8萬   \n",
       "...                      ...      ...   ...    ...   \n",
       "112419                 魔神英雄傳  1988/04  第45集   6.7萬   \n",
       "30499                 城市獵人 2  1988/04  第63集   2.6萬   \n",
       "112518                  迷宮物語  1987/09   第1集     6萬   \n",
       "19171                   城市獵人  1987/04  第51集    17萬   \n",
       "112511                 卡姆依之劍  1985/03   第1集   3212   \n",
       "\n",
       "                                                        網址  \n",
       "SN_Number                                                   \n",
       "112670     https://ani.gamer.com.tw/animeRef.php?sn=112670  \n",
       "112680     https://ani.gamer.com.tw/animeRef.php?sn=112680  \n",
       "112675     https://ani.gamer.com.tw/animeRef.php?sn=112675  \n",
       "112677     https://ani.gamer.com.tw/animeRef.php?sn=112677  \n",
       "112674     https://ani.gamer.com.tw/animeRef.php?sn=112674  \n",
       "...                                                    ...  \n",
       "112419     https://ani.gamer.com.tw/animeRef.php?sn=112419  \n",
       "30499       https://ani.gamer.com.tw/animeRef.php?sn=30499  \n",
       "112518     https://ani.gamer.com.tw/animeRef.php?sn=112518  \n",
       "19171       https://ani.gamer.com.tw/animeRef.php?sn=19171  \n",
       "112511     https://ani.gamer.com.tw/animeRef.php?sn=112511  \n",
       "\n",
       "[1006 rows x 5 columns]"
      ]
     },
     "execution_count": 3,
     "metadata": {},
     "output_type": "execute_result"
    }
   ],
   "source": [
    "df = pd.read_csv('gamer_video_list_ver_2.csv', index_col='SN_Number', encoding='utf-8-sig')\n",
    "df"
   ]
  },
  {
   "cell_type": "code",
   "execution_count": 16,
   "metadata": {},
   "outputs": [
    {
     "data": {
      "text/plain": [
       "影片名稱                             進擊的巨人 The Final Season\n",
       "年份                                              2020/12\n",
       "集數                                                 第16集\n",
       "觀看人數                                              12.6萬\n",
       "網址      https://ani.gamer.com.tw/animeRef.php?sn=112522\n",
       "Name: 112522, dtype: object"
      ]
     },
     "execution_count": 16,
     "metadata": {},
     "output_type": "execute_result"
    }
   ],
   "source": [
    "df.loc[112522]"
   ]
  },
  {
   "cell_type": "code",
   "execution_count": null,
   "metadata": {},
   "outputs": [
    {
     "name": "stderr",
     "output_type": "stream",
     "text": [
      "From cffi callback <function _verify_callback at 0x0000022D480ECF78>:\n",
      "Traceback (most recent call last):\n",
      "  File \"C:\\Users\\user\\Anaconda3\\lib\\site-packages\\OpenSSL\\SSL.py\", line 306, in wrapper\n",
      "    @wraps(callback)\n",
      "KeyboardInterrupt\n"
     ]
    }
   ],
   "source": [
    "df = pd.read_csv('gamer_video_list_ver_2.csv', index_col='SN_Number', encoding='utf-8-sig')\n",
    "sn = []\n",
    "\n",
    "for i in df.index:\n",
    "    temp = crawler('https://ani.gamer.com.tw/animeRef.php?sn='+str(i))\n",
    "    sn.append(temp[1])\n",
    "df.insert(columns = 0, value = sn)\n",
    "df"
   ]
  },
  {
   "cell_type": "code",
   "execution_count": null,
   "metadata": {},
   "outputs": [],
   "source": []
  }
 ],
 "metadata": {
  "kernelspec": {
   "display_name": "Python 3",
   "language": "python",
   "name": "python3"
  },
  "language_info": {
   "codemirror_mode": {
    "name": "ipython",
    "version": 3
   },
   "file_extension": ".py",
   "mimetype": "text/x-python",
   "name": "python",
   "nbconvert_exporter": "python",
   "pygments_lexer": "ipython3",
   "version": "3.7.4"
  }
 },
 "nbformat": 4,
 "nbformat_minor": 2
}
